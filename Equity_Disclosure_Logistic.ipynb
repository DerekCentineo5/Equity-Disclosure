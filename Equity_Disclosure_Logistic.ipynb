{
 "cells": [
  {
   "cell_type": "code",
   "execution_count": 3,
   "metadata": {},
   "outputs": [],
   "source": [
    "import numpy as np\n",
    "import sklearn.model_selection as sklrn_ms\n",
    "import sklearn.linear_model as sklrn_lm\n",
    "import sklearn.metrics as sklrn_sm\n",
    "import statsmodels.api as sm \n",
    "import statsmodels.miscmodels\n",
    "import statsmodels.formula.api as sfa\n",
    "import os\n",
    "import mord\n",
    "import pandas as pd\n",
    "import seaborn as sn\n",
    "import matplotlib.pyplot as plt\n",
    "%matplotlib inline"
   ]
  },
  {
   "cell_type": "markdown",
   "metadata": {},
   "source": [
    "### Load Datasets"
   ]
  },
  {
   "cell_type": "code",
   "execution_count": 4,
   "metadata": {},
   "outputs": [],
   "source": [
    "Disclosure_Raw = pd.read_excel('Workplace_Equity_Disclosure.xlsx', sheet_name='Sheet1')\n",
    "Efficiency_2021 = pd.read_csv('2021_Firm_Efficiency.csv')"
   ]
  },
  {
   "cell_type": "code",
   "execution_count": 5,
   "metadata": {},
   "outputs": [],
   "source": [
    "Disclosure_Raw = Disclosure_Raw[['Ticker', 'Reports EEO-1 Data']]"
   ]
  },
  {
   "cell_type": "code",
   "execution_count": 6,
   "metadata": {},
   "outputs": [],
   "source": [
    "Data = pd.merge(Efficiency_2021, Disclosure_Raw, how='inner', on='Ticker')\n",
    "Data_Merged = Data.drop(columns='Unnamed: 0')"
   ]
  },
  {
   "cell_type": "code",
   "execution_count": 7,
   "metadata": {},
   "outputs": [],
   "source": [
    "Data_Merged.index = Data_Merged['Company']\n",
    "Data_Merged = Data_Merged.dropna()\n",
    "Data_Merged = Data_Merged.astype({'ModelID':'int64', 'value:MarketCap':'int64', 'Firm_Efficiency':'float64','Reports EEO-1 Data':'int64'})\n"
   ]
  },
  {
   "cell_type": "code",
   "execution_count": 8,
   "metadata": {},
   "outputs": [
    {
     "data": {
      "text/html": [
       "<div>\n",
       "<style scoped>\n",
       "    .dataframe tbody tr th:only-of-type {\n",
       "        vertical-align: middle;\n",
       "    }\n",
       "\n",
       "    .dataframe tbody tr th {\n",
       "        vertical-align: top;\n",
       "    }\n",
       "\n",
       "    .dataframe thead th {\n",
       "        text-align: right;\n",
       "    }\n",
       "</style>\n",
       "<table border=\"1\" class=\"dataframe\">\n",
       "  <thead>\n",
       "    <tr style=\"text-align: right;\">\n",
       "      <th></th>\n",
       "      <th>Company</th>\n",
       "      <th>Ticker</th>\n",
       "      <th>SICS</th>\n",
       "      <th>ModelID</th>\n",
       "      <th>perform:OperatingRevenue</th>\n",
       "      <th>perform:CostRevenue</th>\n",
       "      <th>position:SellingGeneralAdministrative5yCapitalization</th>\n",
       "      <th>position:PropertyPlantEquipmentGross</th>\n",
       "      <th>position:OtherIntangibleAssets</th>\n",
       "      <th>position:LeaseContractCommitments</th>\n",
       "      <th>position:Goodwill</th>\n",
       "      <th>perform:ResearchDevelopmentExpenses</th>\n",
       "      <th>perform:FCF</th>\n",
       "      <th>value:MarketCap</th>\n",
       "      <th>Firm_Efficiency</th>\n",
       "      <th>Satisfied_Constraint</th>\n",
       "      <th>Reports EEO-1 Data</th>\n",
       "    </tr>\n",
       "    <tr>\n",
       "      <th>Company</th>\n",
       "      <th></th>\n",
       "      <th></th>\n",
       "      <th></th>\n",
       "      <th></th>\n",
       "      <th></th>\n",
       "      <th></th>\n",
       "      <th></th>\n",
       "      <th></th>\n",
       "      <th></th>\n",
       "      <th></th>\n",
       "      <th></th>\n",
       "      <th></th>\n",
       "      <th></th>\n",
       "      <th></th>\n",
       "      <th></th>\n",
       "      <th></th>\n",
       "      <th></th>\n",
       "    </tr>\n",
       "  </thead>\n",
       "  <tbody>\n",
       "    <tr>\n",
       "      <th>Booking Holdings Inc</th>\n",
       "      <td>Booking Holdings Inc</td>\n",
       "      <td>BKNG</td>\n",
       "      <td>25301030</td>\n",
       "      <td>1097171</td>\n",
       "      <td>10110</td>\n",
       "      <td>0</td>\n",
       "      <td>23040</td>\n",
       "      <td>2437</td>\n",
       "      <td>2163</td>\n",
       "      <td>480</td>\n",
       "      <td>3225</td>\n",
       "      <td>0</td>\n",
       "      <td>1813</td>\n",
       "      <td>86243</td>\n",
       "      <td>0.3704</td>\n",
       "      <td>Yes</td>\n",
       "      <td>0</td>\n",
       "    </tr>\n",
       "    <tr>\n",
       "      <th>Broadcom Inc</th>\n",
       "      <td>Broadcom Inc</td>\n",
       "      <td>AVGO</td>\n",
       "      <td>45301020</td>\n",
       "      <td>1097174</td>\n",
       "      <td>26050</td>\n",
       "      <td>9298</td>\n",
       "      <td>4028</td>\n",
       "      <td>5458</td>\n",
       "      <td>18536</td>\n",
       "      <td>674</td>\n",
       "      <td>38768</td>\n",
       "      <td>4117</td>\n",
       "      <td>15114</td>\n",
       "      <td>184141</td>\n",
       "      <td>1.0000</td>\n",
       "      <td>Yes</td>\n",
       "      <td>0</td>\n",
       "    </tr>\n",
       "    <tr>\n",
       "      <th>Baker Hughes Co</th>\n",
       "      <td>Baker Hughes Co</td>\n",
       "      <td>BKR</td>\n",
       "      <td>10101020</td>\n",
       "      <td>1097183</td>\n",
       "      <td>20425</td>\n",
       "      <td>16930</td>\n",
       "      <td>7397</td>\n",
       "      <td>11377</td>\n",
       "      <td>5567</td>\n",
       "      <td>340</td>\n",
       "      <td>21406</td>\n",
       "      <td>593</td>\n",
       "      <td>1931</td>\n",
       "      <td>15743</td>\n",
       "      <td>0.4223</td>\n",
       "      <td>No</td>\n",
       "      <td>0</td>\n",
       "    </tr>\n",
       "    <tr>\n",
       "      <th>Iqvia Holdings Inc</th>\n",
       "      <td>Iqvia Holdings Inc</td>\n",
       "      <td>IQV</td>\n",
       "      <td>35201010</td>\n",
       "      <td>1097184</td>\n",
       "      <td>12525</td>\n",
       "      <td>8126</td>\n",
       "      <td>4836</td>\n",
       "      <td>2222</td>\n",
       "      <td>5835</td>\n",
       "      <td>487</td>\n",
       "      <td>12868</td>\n",
       "      <td>0</td>\n",
       "      <td>2068</td>\n",
       "      <td>32052</td>\n",
       "      <td>0.4011</td>\n",
       "      <td>Yes</td>\n",
       "      <td>0</td>\n",
       "    </tr>\n",
       "    <tr>\n",
       "      <th>DuPont de Nemours Inc</th>\n",
       "      <td>DuPont de Nemours Inc</td>\n",
       "      <td>DD</td>\n",
       "      <td>15101020</td>\n",
       "      <td>1097186</td>\n",
       "      <td>21118</td>\n",
       "      <td>13707</td>\n",
       "      <td>8582</td>\n",
       "      <td>7293</td>\n",
       "      <td>12783</td>\n",
       "      <td>428</td>\n",
       "      <td>31177</td>\n",
       "      <td>971</td>\n",
       "      <td>3639</td>\n",
       "      <td>48751</td>\n",
       "      <td>0.4775</td>\n",
       "      <td>Yes</td>\n",
       "      <td>0</td>\n",
       "    </tr>\n",
       "    <tr>\n",
       "      <th>...</th>\n",
       "      <td>...</td>\n",
       "      <td>...</td>\n",
       "      <td>...</td>\n",
       "      <td>...</td>\n",
       "      <td>...</td>\n",
       "      <td>...</td>\n",
       "      <td>...</td>\n",
       "      <td>...</td>\n",
       "      <td>...</td>\n",
       "      <td>...</td>\n",
       "      <td>...</td>\n",
       "      <td>...</td>\n",
       "      <td>...</td>\n",
       "      <td>...</td>\n",
       "      <td>...</td>\n",
       "      <td>...</td>\n",
       "      <td>...</td>\n",
       "    </tr>\n",
       "    <tr>\n",
       "      <th>ViacomCBS Inc</th>\n",
       "      <td>ViacomCBS Inc</td>\n",
       "      <td>VIAC</td>\n",
       "      <td>50201020</td>\n",
       "      <td>2191212</td>\n",
       "      <td>27624</td>\n",
       "      <td>17541</td>\n",
       "      <td>15523</td>\n",
       "      <td>7927</td>\n",
       "      <td>2952</td>\n",
       "      <td>1091</td>\n",
       "      <td>16749</td>\n",
       "      <td>0</td>\n",
       "      <td>4007</td>\n",
       "      <td>21956</td>\n",
       "      <td>0.5539</td>\n",
       "      <td>Yes</td>\n",
       "      <td>0</td>\n",
       "    </tr>\n",
       "    <tr>\n",
       "      <th>Otis Worldwide Corp</th>\n",
       "      <td>Otis Worldwide Corp</td>\n",
       "      <td>OTIS</td>\n",
       "      <td>20104020</td>\n",
       "      <td>2191216</td>\n",
       "      <td>13201</td>\n",
       "      <td>9188</td>\n",
       "      <td>4839</td>\n",
       "      <td>1962</td>\n",
       "      <td>597</td>\n",
       "      <td>0</td>\n",
       "      <td>1772</td>\n",
       "      <td>162</td>\n",
       "      <td>1342</td>\n",
       "      <td>27759</td>\n",
       "      <td>1.0000</td>\n",
       "      <td>Yes</td>\n",
       "      <td>0</td>\n",
       "    </tr>\n",
       "    <tr>\n",
       "      <th>Carrier Global Corp</th>\n",
       "      <td>Carrier Global Corp</td>\n",
       "      <td>CARR</td>\n",
       "      <td>20104010</td>\n",
       "      <td>2191217</td>\n",
       "      <td>18287</td>\n",
       "      <td>12839</td>\n",
       "      <td>7506</td>\n",
       "      <td>3609</td>\n",
       "      <td>1164</td>\n",
       "      <td>0</td>\n",
       "      <td>9444</td>\n",
       "      <td>396</td>\n",
       "      <td>1876</td>\n",
       "      <td>32986</td>\n",
       "      <td>1.0000</td>\n",
       "      <td>Yes</td>\n",
       "      <td>0</td>\n",
       "    </tr>\n",
       "    <tr>\n",
       "      <th>Trane Technologies PLC</th>\n",
       "      <td>Trane Technologies PLC</td>\n",
       "      <td>TT</td>\n",
       "      <td>20104010</td>\n",
       "      <td>2191218</td>\n",
       "      <td>13121</td>\n",
       "      <td>9023</td>\n",
       "      <td>8085</td>\n",
       "      <td>4425</td>\n",
       "      <td>4618</td>\n",
       "      <td>357</td>\n",
       "      <td>7571</td>\n",
       "      <td>185</td>\n",
       "      <td>1518</td>\n",
       "      <td>33752</td>\n",
       "      <td>0.3178</td>\n",
       "      <td>Yes</td>\n",
       "      <td>0</td>\n",
       "    </tr>\n",
       "    <tr>\n",
       "      <th>Raytheon Technologies Corp</th>\n",
       "      <td>Raytheon Technologies Corp</td>\n",
       "      <td>RTX</td>\n",
       "      <td>20101010</td>\n",
       "      <td>2191220</td>\n",
       "      <td>67106</td>\n",
       "      <td>52202</td>\n",
       "      <td>20517</td>\n",
       "      <td>28886</td>\n",
       "      <td>29905</td>\n",
       "      <td>1685</td>\n",
       "      <td>54451</td>\n",
       "      <td>2675</td>\n",
       "      <td>7533</td>\n",
       "      <td>109582</td>\n",
       "      <td>0.7012</td>\n",
       "      <td>Yes</td>\n",
       "      <td>0</td>\n",
       "    </tr>\n",
       "  </tbody>\n",
       "</table>\n",
       "<p>315 rows × 17 columns</p>\n",
       "</div>"
      ],
      "text/plain": [
       "                                               Company  ... Reports EEO-1 Data\n",
       "Company                                                 ...                   \n",
       "Booking Holdings Inc              Booking Holdings Inc  ...                  0\n",
       "Broadcom Inc                              Broadcom Inc  ...                  0\n",
       "Baker Hughes Co                        Baker Hughes Co  ...                  0\n",
       "Iqvia Holdings Inc                  Iqvia Holdings Inc  ...                  0\n",
       "DuPont de Nemours Inc            DuPont de Nemours Inc  ...                  0\n",
       "...                                                ...  ...                ...\n",
       "ViacomCBS Inc                            ViacomCBS Inc  ...                  0\n",
       "Otis Worldwide Corp                Otis Worldwide Corp  ...                  0\n",
       "Carrier Global Corp                Carrier Global Corp  ...                  0\n",
       "Trane Technologies PLC          Trane Technologies PLC  ...                  0\n",
       "Raytheon Technologies Corp  Raytheon Technologies Corp  ...                  0\n",
       "\n",
       "[315 rows x 17 columns]"
      ]
     },
     "execution_count": 8,
     "metadata": {},
     "output_type": "execute_result"
    }
   ],
   "source": [
    "Data_Merged"
   ]
  },
  {
   "cell_type": "code",
   "execution_count": 9,
   "metadata": {},
   "outputs": [],
   "source": [
    "Data_4_Logit = Data_Merged[['value:MarketCap', 'Firm_Efficiency','ModelID', 'Reports EEO-1 Data']]\n",
    "Data_4_Logit = Data_4_Logit.rename(columns={'Reports EEO-1 Data':'Reported_Binary','value:MarketCap':'Market_Cap'})"
   ]
  },
  {
   "cell_type": "code",
   "execution_count": 10,
   "metadata": {},
   "outputs": [],
   "source": [
    "Train_Data, Test_Data = sklrn_ms.train_test_split(Data_4_Logit,test_size=0.2,random_state=0)"
   ]
  },
  {
   "cell_type": "markdown",
   "metadata": {},
   "source": [
    "## Logistic Regression"
   ]
  },
  {
   "cell_type": "code",
   "execution_count": 415,
   "metadata": {},
   "outputs": [
    {
     "name": "stdout",
     "output_type": "stream",
     "text": [
      "Optimization terminated successfully.\n",
      "         Current function value: 0.386940\n",
      "         Iterations 7\n"
     ]
    },
    {
     "data": {
      "text/html": [
       "<table class=\"simpletable\">\n",
       "<caption>Logit Regression Results</caption>\n",
       "<tr>\n",
       "  <th>Dep. Variable:</th>    <td>Reported_Binary</td> <th>  No. Observations:  </th>  <td>   252</td>  \n",
       "</tr>\n",
       "<tr>\n",
       "  <th>Model:</th>                 <td>Logit</td>      <th>  Df Residuals:      </th>  <td>   250</td>  \n",
       "</tr>\n",
       "<tr>\n",
       "  <th>Method:</th>                 <td>MLE</td>       <th>  Df Model:          </th>  <td>     1</td>  \n",
       "</tr>\n",
       "<tr>\n",
       "  <th>Date:</th>            <td>Thu, 17 Dec 2020</td> <th>  Pseudo R-squ.:     </th>  <td>0.1287</td>  \n",
       "</tr>\n",
       "<tr>\n",
       "  <th>Time:</th>                <td>16:14:12</td>     <th>  Log-Likelihood:    </th> <td> -97.509</td> \n",
       "</tr>\n",
       "<tr>\n",
       "  <th>converged:</th>             <td>True</td>       <th>  LL-Null:           </th> <td> -111.92</td> \n",
       "</tr>\n",
       "<tr>\n",
       "  <th>Covariance Type:</th>     <td>nonrobust</td>    <th>  LLR p-value:       </th> <td>7.954e-08</td>\n",
       "</tr>\n",
       "</table>\n",
       "<table class=\"simpletable\">\n",
       "<tr>\n",
       "         <td></td>            <th>coef</th>     <th>std err</th>      <th>z</th>      <th>P>|z|</th>  <th>[0.025</th>    <th>0.975]</th>  \n",
       "</tr>\n",
       "<tr>\n",
       "  <th>Intercept</th>       <td>   -3.1334</td> <td>    0.404</td> <td>   -7.748</td> <td> 0.000</td> <td>   -3.926</td> <td>   -2.341</td>\n",
       "</tr>\n",
       "<tr>\n",
       "  <th>Firm_Efficiency</th> <td>    2.7237</td> <td>    0.553</td> <td>    4.922</td> <td> 0.000</td> <td>    1.639</td> <td>    3.808</td>\n",
       "</tr>\n",
       "</table>"
      ],
      "text/plain": [
       "<class 'statsmodels.iolib.summary.Summary'>\n",
       "\"\"\"\n",
       "                           Logit Regression Results                           \n",
       "==============================================================================\n",
       "Dep. Variable:        Reported_Binary   No. Observations:                  252\n",
       "Model:                          Logit   Df Residuals:                      250\n",
       "Method:                           MLE   Df Model:                            1\n",
       "Date:                Thu, 17 Dec 2020   Pseudo R-squ.:                  0.1287\n",
       "Time:                        16:14:12   Log-Likelihood:                -97.509\n",
       "converged:                       True   LL-Null:                       -111.92\n",
       "Covariance Type:            nonrobust   LLR p-value:                 7.954e-08\n",
       "===================================================================================\n",
       "                      coef    std err          z      P>|z|      [0.025      0.975]\n",
       "-----------------------------------------------------------------------------------\n",
       "Intercept          -3.1334      0.404     -7.748      0.000      -3.926      -2.341\n",
       "Firm_Efficiency     2.7237      0.553      4.922      0.000       1.639       3.808\n",
       "===================================================================================\n",
       "\"\"\""
      ]
     },
     "execution_count": 415,
     "metadata": {},
     "output_type": "execute_result"
    }
   ],
   "source": [
    "Formula = ('Reported_Binary ~ Firm_Efficiency')\n",
    "model = sfa.logit(Formula, Train_Data).fit()\n",
    "model.summary()\n",
    "           "
   ]
  },
  {
   "cell_type": "markdown",
   "metadata": {},
   "source": [
    "### Odds Ratio\n",
    "- Probability of Event Ocurring to Event NOT Ocurring --> (Prob/1-Prob)\n",
    "- Odds Ratio tells us for a given n coefficient, a 1 unit increase in a variable will increase the odds of that variable by n times"
   ]
  },
  {
   "cell_type": "code",
   "execution_count": 416,
   "metadata": {},
   "outputs": [
    {
     "data": {
      "text/plain": [
       "Intercept           0.043570\n",
       "Firm_Efficiency    15.237086\n",
       "dtype: float64"
      ]
     },
     "execution_count": 416,
     "metadata": {},
     "output_type": "execute_result"
    }
   ],
   "source": [
    "Odds_Ratios = np.exp(model.params)\n",
    "Odds_Ratios"
   ]
  },
  {
   "cell_type": "markdown",
   "metadata": {},
   "source": [
    "### Confusion Matrix"
   ]
  },
  {
   "cell_type": "code",
   "execution_count": 417,
   "metadata": {},
   "outputs": [
    {
     "data": {
      "text/plain": [
       "<matplotlib.axes._subplots.AxesSubplot at 0x1a2e1fced0>"
      ]
     },
     "execution_count": 417,
     "metadata": {},
     "output_type": "execute_result"
    },
    {
     "data": {
      "image/png": "[encoded data removed]",
      "text/plain": [
       "<Figure size 432x288 with 2 Axes>"
      ]
     },
     "metadata": {
      "needs_background": "light"
     },
     "output_type": "display_data"
    }
   ],
   "source": [
    "Prediction = model.predict(exog=Test_Data)\n",
    "cutoff = 0.5\n",
    "y_pred = np.where(Prediction > cutoff, 1, 0)\n",
    "y_actual = Test_Data['Reported_Binary']\n",
    "\n",
    "Matrix = pd.crosstab(y_actual, y_pred, rownames=['Actual'], colnames=['Predicted'])\n",
    "sn.heatmap(Matrix, annot=True)\n"
   ]
  },
  {
   "cell_type": "code",
   "execution_count": 418,
   "metadata": {},
   "outputs": [
    {
     "name": "stdout",
     "output_type": "stream",
     "text": [
      "Accuracy = 0.905%\n"
     ]
    }
   ],
   "source": [
    "Accuracy = sklrn_sm.accuracy_score(y_actual, y_pred)\n",
    "print('Accuracy = %.3f' % Accuracy + '%')"
   ]
  },
  {
   "cell_type": "code",
   "execution_count": 420,
   "metadata": {},
   "outputs": [
    {
     "name": "stdout",
     "output_type": "stream",
     "text": [
      "              precision    recall  f1-score   support\n",
      "\n",
      "           0       0.90      1.00      0.95        57\n",
      "           1       0.00      0.00      0.00         6\n",
      "\n",
      "    accuracy                           0.90        63\n",
      "   macro avg       0.45      0.50      0.48        63\n",
      "weighted avg       0.82      0.90      0.86        63\n",
      "\n"
     ]
    }
   ],
   "source": [
    "Classification = sklrn_sm.classification_report(y_actual, y_pred)\n",
    "print(Classification)"
   ]
  },
  {
   "cell_type": "code",
   "execution_count": 396,
   "metadata": {},
   "outputs": [
    {
     "data": {
      "text/plain": [
       "<matplotlib.axes._subplots.AxesSubplot at 0x1a303bffd0>"
      ]
     },
     "execution_count": 396,
     "metadata": {},
     "output_type": "execute_result"
    },
    {
     "data": {
      "image/png": "[encoded data removed]",
      "text/plain": [
       "<Figure size 432x288 with 1 Axes>"
      ]
     },
     "metadata": {
      "needs_background": "light"
     },
     "output_type": "display_data"
    }
   ],
   "source": [
    "sn.regplot(x='Firm_Efficiency', y='Reported_Binary',\n",
    "          y_jitter=0.03, data=Train_Data, logistic=True)"
   ]
  },
  {
   "cell_type": "code",
   "execution_count": 11,
   "metadata": {},
   "outputs": [],
   "source": [
    "Data_Merged.to_csv('Data_4_Equity_Disclosure.csv')"
   ]
  },
  {
   "cell_type": "code",
   "execution_count": null,
   "metadata": {},
   "outputs": [],
   "source": []
  },
  {
   "cell_type": "code",
   "execution_count": null,
   "metadata": {},
   "outputs": [],
   "source": []
  }
 ],
 "metadata": {
  "kernelspec": {
   "display_name": "Python 3",
   "language": "python",
   "name": "python3"
  },
  "language_info": {
   "codemirror_mode": {
    "name": "ipython",
    "version": 3
   },
   "file_extension": ".py",
   "mimetype": "text/x-python",
   "name": "python",
   "nbconvert_exporter": "python",
   "pygments_lexer": "ipython3",
   "version": "3.7.6"
  }
 },
 "nbformat": 4,
 "nbformat_minor": 4
}
